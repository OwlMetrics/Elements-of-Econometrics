{
 "cells": [
  {
   "cell_type": "markdown",
   "metadata": {},
   "source": [
    "# **Elements of Econometrics**\n",
    "\n",
    "***\n",
    "\n",
    ">### 01. Introduction, Review of Probability\n",
    "\n",
    ">### 02. Review of Statistics\n",
    "\n",
    ">### 03. Single Linear Regression\n",
    "\n",
    ">### 04. Multivariate Linear Regression\n",
    "\n",
    ">### 05. Hypothesis Tests \n",
    "\n",
    ">### 06. Nonlinearities\n",
    "\n",
    ">### 07. Instrumental Variables Regression\n",
    "\n",
    ">### 08.  Regression with Limited Dependent Variables\n",
    "\n",
    ">### 09. Linear Panel Data Models\n",
    "\n",
    ">### 10. Experiments and Quasi-Experiments\n",
    "\n",
    ">### 11. Linear Time Series Model (A)\n",
    "\n",
    ">### 12. Linear Time Series Model (B)\n"
   ]
  }
 ],
 "metadata": {
  "kernelspec": {
   "display_name": "Python 3",
   "language": "python",
   "name": "python3"
  },
  "language_info": {
   "codemirror_mode": {
    "name": "ipython",
    "version": 3
   },
   "file_extension": ".py",
   "mimetype": "text/x-python",
   "name": "python",
   "nbconvert_exporter": "python",
   "pygments_lexer": "ipython3",
   "version": "3.6.3"
  }
 },
 "nbformat": 4,
 "nbformat_minor": 2
}
